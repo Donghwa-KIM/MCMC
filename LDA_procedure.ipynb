{
 "cells": [
  {
   "cell_type": "markdown",
   "metadata": {
    "collapsed": true
   },
   "source": [
    "# Gibbs Sampling"
   ]
  },
  {
   "cell_type": "markdown",
   "metadata": {
    "collapsed": true
   },
   "source": [
    "This is useful for sampling from complex distribution $-$ multi-dimensional distribution  by component-wise sampling indenpendently. For example, we want to model three parameters, $\\theta_{1}$, $\\theta_{2}$ and $\\theta_{3}$ sequentially as follows."
   ]
  },
  {
   "cell_type": "markdown",
   "metadata": {
    "collapsed": true
   },
   "source": [
    "1. Initialize $\\theta_{1}^{0}$, $\\theta_{2}^{0}$ and $\\theta_{3}^{0}$ as some value\n",
    "2. for each iteration $i$:\n",
    " - create a new value $\\theta_{1}^{i}$ conditioned on values $\\theta_{2}^{i-1}$ and $\\theta_{3}^{i-1}$\n",
    " - create a new value $\\theta_{2}^{i}$ conditioned on values $\\theta_{1}^{i}$ and $\\theta_{3}^{i-1}$\n",
    " - create a new value $\\theta_{3}^{i}$ conditioned on values $\\theta_{1}^{i}$ and $\\theta_{2}^{i}$"
   ]
  },
  {
   "cell_type": "markdown",
   "metadata": {},
   "source": [
    "![example](https://donghwa-kim.github.io/picture/gibbs_seque.png)"
   ]
  },
  {
   "cell_type": "markdown",
   "metadata": {},
   "source": [
    "# LDA with Gibbs Sampling"
   ]
  },
  {
   "cell_type": "markdown",
   "metadata": {
    "collapsed": true
   },
   "source": [
    "There is an approach to estimate the posterior distrubution over assigning words to topics, namely, $\\theta$ and $\\phi$ can be derived from $z$. For each word $i$, $z_{i}$ is an intenger value $[1,...,T]$ representing the topic a word is assiged to."
   ]
  },
  {
   "cell_type": "markdown",
   "metadata": {
    "collapsed": true
   },
   "source": [
    "Let's assume a few notations:\n",
    "- $d_{i}$ : $i^{th}$ document.\n",
    "- $w_{d_{i}}$ : a word token in the document\n",
    "and the topic assignment $z_{i}$ is estimated from $w_{d_{i}}$, conditioned on all other topic assignments to other word tokens."
   ]
  },
  {
   "cell_type": "markdown",
   "metadata": {
    "collapsed": true
   },
   "source": [
    "$$P(z_{i}=j|z_{-i},w{i},d_{i},\\cdot) \\propto \\frac{C^{WT}_{w_{i}j}+\\beta}{\\sum\\limits_{w=1}^{W} C^{WT}_{wj}+W\\beta} \\frac{C^{DT}_{d_{i}j}+\\alpha}{\\sum\\limits_{t=1}^{T} C^{DT}_{d_{i}t}+T\\alpha} $$"
   ]
  },
  {
   "cell_type": "markdown",
   "metadata": {},
   "source": [
    "where $\\cdot$ means all other words $w_{i}$ and documents $d_{i}$ and $\\propto$ is proportional notation, for example, $y\\propto x \\equiv y=kx$"
   ]
  },
  {
   "cell_type": "markdown",
   "metadata": {},
   "source": [
    "$C^{wt}$ and $C^{DT}$ are matrics of counts with dimensions $W$ X $T$ and $D$ X $T$ respectively:\n",
    "- $C^{WT}_{wj}$ is the count of words $w$ assigned to topic j, not including current instance $i$.\n",
    "- $C^{DT}_{dj}$ is the count of topic j assigned to some word token in documnet D not including current instance i."
   ]
  },
  {
   "cell_type": "markdown",
   "metadata": {},
   "source": [
    "If many tokens of word $i$ have been assigned to a topic $j$, the probability that the following word token $i$ is assigned to the topic $j$ is increased according to frequency of the word. Similarly, if topic $j$ has been used multiple times within a document, it will increase the probability that any word within that document is assigned to topic $j$."
   ]
  },
  {
   "cell_type": "markdown",
   "metadata": {},
   "source": [
    "$\\theta$ $-$ topic distribution and $\\phi$ $-$ term distribution can be estimated by the following formula [M Steyvers & T Griffiths (2004)](https://www.dropbox.com/s/5v9lh0lcmx0nqfz/sciencetopics.pdf?dl=0) :"
   ]
  },
  {
   "cell_type": "markdown",
   "metadata": {},
   "source": [
    "$$ \\phi^{'(j)}_{j}=\\frac{C^{WT}_{ij}+\\beta}{\\sum\\limits_{w=1}^{W} C^{WT}_{kj}+W\\beta}$$\n",
    "\n",
    "$$ \\theta^{'(d)}_{i}=\\frac{C^{DT}_{dj}+\\alpha}{\\sum\\limits_{t=1}^{T} C^{DT}_{dt}+T\\alpha} $$"
   ]
  },
  {
   "cell_type": "markdown",
   "metadata": {},
   "source": [
    "The gibbs sampling procedure now can be written as:\n",
    "- Assign each word token $w_{i}$ a random topic[1,...,T]\n",
    "- For each word token $w_{i}$:\n",
    "    - Decrement count matrices $C^{WT}$ and $C^{DT}$ by one for current topic assignment.\n",
    "    - Sample a new topic from the **_posterior equation_** ($\\theta$, $\\phi$) above.\n",
    "    - Update count matrices $C^{WT}$ and $C^{DT}$ by one with the new sampled topic assignment.\n",
    "- Repeat above steps until the iteration that you want as a hyperparameter.\n",
    "- derive $\\phi^{'}$ and $\\theta^{'}$ from gibbs samples $z$, using the above equations."
   ]
  },
  {
   "cell_type": "markdown",
   "metadata": {},
   "source": [
    "there is an initial duration for **_'burn-in'_** where the poor estimates are often discared. After this duration, the samples start to approach the target distribution. Furthermore, to get a representative sample, samples are saved at regularly spaced intervals to prevent correlation between them."
   ]
  },
  {
   "cell_type": "markdown",
   "metadata": {},
   "source": [
    "# The process of LDA with an example using python"
   ]
  },
  {
   "cell_type": "markdown",
   "metadata": {},
   "source": [
    "1) **_Data generation for an example_**\n",
    "\n",
    "Suppose that there are two topics in $V$ = ['money', 'loan', 'bank', 'river', 'stream'] and to initialize, Topic 1 allocates equal probability to  'money', 'loan' and 'bank', i.e, $\\phi^{1}_{money}=1/3$, $\\phi^{1}_{loan}=1/3$, $\\phi^{1}_{bank}=1/3$, whereas Topic 2 allocates equal probability to 'bank', 'river' and 'stream', i.e, $\\phi^{2}_{bank}=1/3$, $\\phi^{2}_{river}=1/3$, $\\phi^{2}_{stream}=1/3$."
   ]
  },
  {
   "cell_type": "code",
   "execution_count": 1,
   "metadata": {
    "collapsed": false
   },
   "outputs": [
    {
     "data": {
      "text/plain": [
       "['money', 'loan', 'bank', 'river', 'stream']"
      ]
     },
     "execution_count": 1,
     "metadata": {},
     "output_type": "execute_result"
    }
   ],
   "source": [
    "vocab = [\"money\",\n",
    "        \"loan\",\n",
    "        \"bank\",\n",
    "        \"river\",\n",
    "        \"stream\"]\n",
    "vocab"
   ]
  },
  {
   "cell_type": "code",
   "execution_count": 2,
   "metadata": {
    "collapsed": false
   },
   "outputs": [
    {
     "data": {
      "text/plain": [
       "array([[ 0.33333333,  0.        ],\n",
       "       [ 0.33333333,  0.        ],\n",
       "       [ 0.33333333,  0.33333333],\n",
       "       [ 0.        ,  0.33333333],\n",
       "       [ 0.        ,  0.33333333]])"
      ]
     },
     "execution_count": 2,
     "metadata": {},
     "output_type": "execute_result"
    }
   ],
   "source": [
    "import numpy as np\n",
    "z_1 = np.array([1/3, 1/3, 1/3, .0, .0])\n",
    "z_2 = np.array([.0, .0,1/3, 1/3, 1/3])\n",
    "z = np.array([z_1, z_2])\n",
    "z = np.transpose(z)\n",
    "z "
   ]
  },
  {
   "cell_type": "code",
   "execution_count": 3,
   "metadata": {
    "collapsed": false
   },
   "outputs": [
    {
     "data": {
      "text/plain": [
       "array([ 9, 12,  9,  6, 11, 12,  5,  9, 12,  7,  6, 10, 12, 10, 12,  7])"
      ]
     },
     "execution_count": 3,
     "metadata": {},
     "output_type": "execute_result"
    }
   ],
   "source": [
    "# the number of documents\n",
    "D = 16\n",
    "\n",
    "# mean word length of documents\n",
    "mean_length = 10\n",
    "\n",
    "# sample a length for each document using Poisson\n",
    "len_doc = np.random.poisson(mean_length, size=D)\n",
    "len_doc # the number of words in a document"
   ]
  },
  {
   "cell_type": "code",
   "execution_count": 4,
   "metadata": {
    "collapsed": false
   },
   "outputs": [],
   "source": [
    "# the fixed number of topics\n",
    "T = 2 # the number of topics\n",
    "docs = []\n",
    "orig_topics = []\n",
    "for i in range(D): # D = 16\n",
    "    z = np.random.randint(0, 2) # an generated random intenger between 0 and 1 corresponding to z_1 and z_2 respectively.\n",
    "    if z == 0:\n",
    "        #This is going to select the vocabs by the z probability depending on the size: the number of vocabs going to be selected,\n",
    "        # and then that is changed as list type \n",
    "        words = np.random.choice(vocab, size=(len_doc[i]),p=z_1).tolist()# when 1st z (z==0), the probaility of z_1 is used for seleting words  \n",
    "    else:\n",
    "        words = np.random.choice(vocab, size=(len_doc[i]),p=z_2).tolist()# when 2nd z (z==1), the probaility of z_2 is used for seleting words  \n",
    "    orig_topics.append(z) #[] <- put the topics into the empty list sequentially\n",
    "    docs.append(words) #[] <- put the words into the empty list sequentially"
   ]
  },
  {
   "cell_type": "code",
   "execution_count": 5,
   "metadata": {
    "collapsed": false
   },
   "outputs": [
    {
     "data": {
      "text/plain": [
       "[0, 1, 0, 1, 1, 1, 0, 1, 1, 0, 0, 1, 0, 0, 0, 1]"
      ]
     },
     "execution_count": 5,
     "metadata": {},
     "output_type": "execute_result"
    }
   ],
   "source": [
    "orig_topics"
   ]
  },
  {
   "cell_type": "code",
   "execution_count": 6,
   "metadata": {
    "collapsed": false
   },
   "outputs": [
    {
     "name": "stdout",
     "output_type": "stream",
     "text": [
      "Document 1 | bank bank loan loan money bank loan loan loan\n",
      "Document 2 | bank river river river stream stream bank river river river bank river\n",
      "Document 3 | loan money loan bank loan loan bank bank money\n",
      "Document 4 | stream stream bank stream river river\n",
      "Document 5 | stream bank bank stream river river stream bank river bank bank\n",
      "Document 6 | river river river stream bank river river stream bank bank river bank\n",
      "Document 7 | bank money bank loan money\n",
      "Document 8 | stream stream bank stream stream river river bank river\n",
      "Document 9 | river bank stream stream bank bank stream bank river river bank bank\n",
      "Document 10 | bank bank loan loan loan money money\n",
      "Document 11 | money money bank bank loan bank\n",
      "Document 12 | stream bank stream river river stream river stream bank stream\n",
      "Document 13 | bank bank bank money bank loan loan bank loan bank bank bank\n",
      "Document 14 | loan loan loan money money loan loan loan money money\n",
      "Document 15 | loan bank loan money loan loan money bank loan money money money\n",
      "Document 16 | river stream bank river stream bank river\n"
     ]
    }
   ],
   "source": [
    "for i in range(len(docs)):\n",
    "    print('Document',i+1,'|',\" \".join(docs[i]))     "
   ]
  },
  {
   "cell_type": "markdown",
   "metadata": {},
   "source": [
    "2) **_Initialize the notations_**\n",
    "\n",
    "we need to initialize the notations as below:\n",
    "- $w_{i}$ = $i^{th}$ word token in a document\n",
    "- $d_{i}$ = $i^{th}$ document\n",
    "- $z_{i}$ = $i^{th}$ topic assignment for **_a word token randomly_**"
   ]
  },
  {
   "cell_type": "code",
   "execution_count": 110,
   "metadata": {
    "collapsed": true
   },
   "outputs": [],
   "source": [
    "w_i = []\n",
    "i = []\n",
    "d_i = []\n",
    "z_i = []\n",
    "\n",
    "counter = 0\n",
    "\n",
    "\n",
    "# go through each document\n",
    "# Enumerate returns index, list covered by tuple format\n",
    "for doc_idx, doc in enumerate(docs):\n",
    "    # go through each word in eac document\n",
    "    for word_idx, word in enumerate(doc):\n",
    "        # word index in vocab\n",
    "        w_i.append(np.where(np.array(vocab)==word)[0][0])\n",
    "        # counter\n",
    "        i.append(counter)\n",
    "        # document index in total document\n",
    "        d_i.append(doc_idx)\n",
    "        # initialize some topic assignment\n",
    "        z_i.append(np.random.randint(0, T))\n",
    "        counter += 1\n",
    "        \n",
    "# convert everything consisting of indices to numpy\n",
    "w_i = np.array(w_i)\n",
    "d_i = np.array(d_i)\n",
    "z_i = np.array(z_i)"
   ]
  },
  {
   "cell_type": "markdown",
   "metadata": {},
   "source": [
    "For example below, $(w_{1}, d_{1}, z_{1})$ means that $4^{th}$ word in vocab in $1^{th}$ document is assigned to $2^{th}$ topic initially."
   ]
  },
  {
   "cell_type": "code",
   "execution_count": 111,
   "metadata": {
    "collapsed": false,
    "scrolled": true
   },
   "outputs": [
    {
     "name": "stdout",
     "output_type": "stream",
     "text": [
      "[2 2 1 1 0 2 1 1 1 2 3 3 3 4 4 2 3 3 3 2 3 1 0 1 2 1 1 2 2 0 4 4 2 4 3 3 4\n",
      " 2 2 4 3 3 4 2 3 2 2 3 3 3 4 2 3 3 4 2 2 3 2 2 0 2 1 0 4 4 2 4 4 3 3 2 3 3\n",
      " 2 4 4 2 2 4 2 3 3 2 2 2 2 1 1 1 0 0 0 0 2 2 1 2 4 2 4 3 3 4 3 4 2 4 2 2 2\n",
      " 0 2 1 1 2 1 2 2 2 1 1 1 0 0 1 1 1 0 0 1 2 1 0 1 1 0 2 1 0 0 0 3 4 2 3 4 2\n",
      " 3] , len: 149\n",
      "[ 0  0  0  0  0  0  0  0  0  1  1  1  1  1  1  1  1  1  1  1  1  2  2  2  2\n",
      "  2  2  2  2  2  3  3  3  3  3  3  4  4  4  4  4  4  4  4  4  4  4  5  5  5\n",
      "  5  5  5  5  5  5  5  5  5  6  6  6  6  6  7  7  7  7  7  7  7  7  7  8  8\n",
      "  8  8  8  8  8  8  8  8  8  8  9  9  9  9  9  9  9 10 10 10 10 10 10 11 11\n",
      " 11 11 11 11 11 11 11 11 12 12 12 12 12 12 12 12 12 12 12 12 13 13 13 13 13\n",
      " 13 13 13 13 13 14 14 14 14 14 14 14 14 14 14 14 14 15 15 15 15 15 15 15] , len: 149\n",
      "[1 1 1 1 0 0 1 1 1 1 0 0 1 1 1 0 0 0 1 1 1 1 0 0 0 0 0 1 1 0 0 1 1 0 0 1 0\n",
      " 0 0 1 1 0 1 1 1 0 0 0 0 1 0 0 0 1 1 0 0 1 0 1 1 0 0 0 0 1 1 0 0 1 1 0 1 0\n",
      " 1 0 1 1 0 0 0 1 0 0 0 0 0 0 0 1 0 1 0 0 1 1 1 0 0 0 0 0 0 0 0 0 0 0 1 1 0\n",
      " 0 1 0 0 1 1 0 1 1 1 1 0 0 0 1 0 0 0 1 0 0 0 1 0 1 1 1 1 0 0 0 1 1 1 1 1 1\n",
      " 1] , len: 149\n"
     ]
    }
   ],
   "source": [
    "print(w_i,', len:',len(w_i)) # vocab index (0~4)\n",
    "print(d_i,', len:',len(d_i)) # document index (0~15)\n",
    "print(z_i,', len:',len(z_i)) # topic index (0~1)\n",
    "# Every notation above is corresponded each other."
   ]
  },
  {
   "cell_type": "code",
   "execution_count": 112,
   "metadata": {
    "collapsed": false
   },
   "outputs": [
    {
     "name": "stdout",
     "output_type": "stream",
     "text": [
      "[[ 0.  0.]\n",
      " [ 0.  0.]\n",
      " [ 0.  0.]\n",
      " [ 0.  0.]\n",
      " [ 0.  0.]]\n"
     ]
    }
   ],
   "source": [
    "WT = np.zeros((len(vocab),T)) # create an empty WT matrix\n",
    "DT = np.zeros((D,T)) # create an empty DT matrix\n",
    "print(WT) # Words X Topics"
   ]
  },
  {
   "cell_type": "code",
   "execution_count": 113,
   "metadata": {
    "collapsed": false
   },
   "outputs": [
    {
     "name": "stdout",
     "output_type": "stream",
     "text": [
      "[[ 0.  0.]\n",
      " [ 0.  0.]\n",
      " [ 0.  0.]\n",
      " [ 0.  0.]\n",
      " [ 0.  0.]\n",
      " [ 0.  0.]\n",
      " [ 0.  0.]\n",
      " [ 0.  0.]\n",
      " [ 0.  0.]\n",
      " [ 0.  0.]\n",
      " [ 0.  0.]\n",
      " [ 0.  0.]\n",
      " [ 0.  0.]\n",
      " [ 0.  0.]\n",
      " [ 0.  0.]\n",
      " [ 0.  0.]]\n"
     ]
    }
   ],
   "source": [
    "print(DT) # Documents X Topics "
   ]
  },
  {
   "cell_type": "code",
   "execution_count": 114,
   "metadata": {
    "collapsed": true
   },
   "outputs": [],
   "source": [
    "for idx, word_ in enumerate(vocab): # go through each word \n",
    "    # for each topic, count the number of times \n",
    "    # it is assigned to a word\n",
    "    topics = z_i[np.where(w_i == idx)] # take the topic assignments where the ith vocab match with w_i\n",
    "    for t in range(T):\n",
    "        WT[idx,t] = sum(topics == t) # put a total of each topic(column) into each vocab idx (row)"
   ]
  },
  {
   "cell_type": "code",
   "execution_count": 115,
   "metadata": {
    "collapsed": true
   },
   "outputs": [],
   "source": [
    "# This is the same as above except that w_i is changed to d_i\n",
    "\n",
    "for idx, doc_ in enumerate(range(D)):\n",
    "    # for each topic, count the number of times \n",
    "    # it is assigned to a document\n",
    "    topics = z_i[np.where(d_i == idx)] # take the topic assignments where the ith document match with d_i\n",
    "    for t in range(T):\n",
    "        DT[idx,t] = sum(topics == t) # put a total of each topic(column) into each document idx (row)"
   ]
  },
  {
   "cell_type": "markdown",
   "metadata": {},
   "source": [
    "It is necessary to save the intial matrices to compare the final result."
   ]
  },
  {
   "cell_type": "code",
   "execution_count": 116,
   "metadata": {
    "collapsed": false
   },
   "outputs": [
    {
     "data": {
      "text/plain": [
       "array([[ 14.,   5.],\n",
       "       [ 14.,  14.],\n",
       "       [ 25.,  23.],\n",
       "       [ 14.,  16.],\n",
       "       [ 14.,  10.]])"
      ]
     },
     "execution_count": 116,
     "metadata": {},
     "output_type": "execute_result"
    }
   ],
   "source": [
    "# distribution for each word\n",
    "WT_orig = WT.copy()\n",
    "WT_orig"
   ]
  },
  {
   "cell_type": "code",
   "execution_count": 117,
   "metadata": {
    "collapsed": false
   },
   "outputs": [
    {
     "data": {
      "text/plain": [
       "array([[  2.,   7.],\n",
       "       [  5.,   7.],\n",
       "       [  6.,   3.],\n",
       "       [  3.,   3.],\n",
       "       [  6.,   5.],\n",
       "       [  8.,   4.],\n",
       "       [  3.,   2.],\n",
       "       [  4.,   5.],\n",
       "       [  8.,   4.],\n",
       "       [  5.,   2.],\n",
       "       [  3.,   3.],\n",
       "       [ 10.,   0.],\n",
       "       [  5.,   7.],\n",
       "       [  6.,   4.],\n",
       "       [  7.,   5.],\n",
       "       [  0.,   7.]])"
      ]
     },
     "execution_count": 117,
     "metadata": {},
     "output_type": "execute_result"
    }
   ],
   "source": [
    "# distribution for each document\n",
    "DT_orig = DT.copy()\n",
    "DT"
   ]
  },
  {
   "cell_type": "markdown",
   "metadata": {},
   "source": [
    "3) **_Learning Gibbs Sampling iteratively_**"
   ]
  },
  {
   "cell_type": "markdown",
   "metadata": {},
   "source": [
    "Basically, It's going to learn each of the word tokens $w_{i}$ and update the topic assingments $z_{i}$\n",
    "\n",
    "$\\phi_{1}$ and $\\phi_{2}$ will estimate and record topic assignments for each word"
   ]
  },
  {
   "cell_type": "code",
   "execution_count": 118,
   "metadata": {
    "collapsed": false
   },
   "outputs": [
    {
     "data": {
      "text/plain": [
       "array([[ 0.        ,  0.28358209],\n",
       "       [ 0.        ,  0.41791045],\n",
       "       [ 0.34146341,  0.29850746],\n",
       "       [ 0.36585366,  0.        ],\n",
       "       [ 0.29268293,  0.        ]])"
      ]
     },
     "execution_count": 118,
     "metadata": {},
     "output_type": "execute_result"
    }
   ],
   "source": [
    "# a hyper parameter to make better performance but we have to consider the running time\n",
    "iters = 1000\n",
    "phi_T = []\n",
    "# when iteration 100, we should make the matrix as follows to record the estimates\n",
    "for t in range(T):\n",
    "    phi_T.append(np.zeros((len(vocab),iters)))\n",
    "\n"
   ]
  },
  {
   "cell_type": "markdown",
   "metadata": {},
   "source": [
    "The Dirichlet prior ($\\alpha$, $\\beta$) below are determinant hyper-parameters to decide the shape of topic distributions. for example"
   ]
  },
  {
   "cell_type": "markdown",
   "metadata": {},
   "source": [
    "### when $\\alpha$ = 1, learning iteratively"
   ]
  },
  {
   "cell_type": "markdown",
   "metadata": {},
   "source": [
    "![alpha](https://photos-3.dropbox.com/t/2/AABodnCIj9nl6JN-CeLLmitLsoKCvkUnrKGnUPipgxEBrQ/12/343832708/png/32x32/1/_/1/2/a_1.png/EKq7ktgCGMj2BCAHKAc/AZr8R7kU8rGrCjrKTxPlWjgM4SiW8OgvOzRRMtt2KPQ?size=2048x1536&size_mode=3)"
   ]
  },
  {
   "cell_type": "markdown",
   "metadata": {},
   "source": [
    "### when $\\alpha$ = 0.1, learning iteratively"
   ]
  },
  {
   "cell_type": "markdown",
   "metadata": {},
   "source": [
    "![alpha](https://photos-6.dropbox.com/t/2/AAA4R4W9svXMweimMx6pbHRsANVhUryOpV2BuNpibH12mQ/12/343832708/png/32x32/1/_/1/2/a_01.png/EKq7ktgCGMj2BCAHKAc/H_tKMw7xem1bL8u5axl0V1UsKyHL2br8sJsGa0MZwZI?size=1600x1200&size_mode=3)"
   ]
  },
  {
   "cell_type": "code",
   "execution_count": 139,
   "metadata": {
    "collapsed": false,
    "scrolled": true
   },
   "outputs": [
    {
     "data": {
      "text/plain": [
       "[array([[ 0.18918919,  0.21428571,  0.24637681, ...,  0.27941176,\n",
       "          0.26027397,  0.26760563],\n",
       "        [ 0.13513514,  0.18571429,  0.33333333, ...,  0.41176471,\n",
       "          0.38356164,  0.3943662 ],\n",
       "        [ 0.35135135,  0.37142857,  0.4057971 , ...,  0.30882353,\n",
       "          0.35616438,  0.33802817],\n",
       "        [ 0.16216216,  0.1       ,  0.01449275, ...,  0.        ,\n",
       "          0.        ,  0.        ],\n",
       "        [ 0.16216216,  0.12857143,  0.        , ...,  0.        ,\n",
       "          0.        ,  0.        ]]),\n",
       " array([[ 0.06666667,  0.05063291,  0.025     , ...,  0.        ,\n",
       "          0.        ,  0.        ],\n",
       "        [ 0.24      ,  0.18987342,  0.0625    , ...,  0.        ,\n",
       "          0.        ,  0.        ],\n",
       "        [ 0.29333333,  0.27848101,  0.25      , ...,  0.33333333,\n",
       "          0.28947368,  0.30769231],\n",
       "        [ 0.24      ,  0.29113924,  0.3625    , ...,  0.37037037,\n",
       "          0.39473684,  0.38461538],\n",
       "        [ 0.16      ,  0.18987342,  0.3       , ...,  0.2962963 ,\n",
       "          0.31578947,  0.30769231]])]"
      ]
     },
     "execution_count": 139,
     "metadata": {},
     "output_type": "execute_result"
    }
   ],
   "source": [
    "phi_T"
   ]
  },
  {
   "cell_type": "markdown",
   "metadata": {},
   "source": [
    "Generally, it is proven from [M Steyvers & T Griffiths (2007)](https://www.dropbox.com/s/tdsyqunr9qmcdlx/SteyversGriffiths.pdf?dl=0);[M Steyvers & T Griffiths (2004)](https://www.dropbox.com/s/5v9lh0lcmx0nqfz/sciencetopics.pdf?dl=0) that the reasonable values for the hyperparameters are experimentally\n",
    "\n",
    "$\\alpha$ = 50 $/$ The number of topics\n",
    "\n",
    "$\\beta$ = 0.01"
   ]
  },
  {
   "cell_type": "markdown",
   "metadata": {},
   "source": [
    "$$ \\phi^{'(j)}_{j}=\\frac{C^{WT}_{ij}+\\beta}{\\sum\\limits_{w=1}^{W} C^{WT}_{kj}+W\\beta}\\quad \\cdot\\cdot\\cdot (1)$$\n",
    "\n",
    "$$ \\theta^{'(d)}_{i}=\\frac{C^{DT}_{dj}+\\alpha}{\\sum\\limits_{t=1}^{T} C^{DT}_{dt}+T\\alpha}\\quad \\cdot\\cdot\\cdot (2)$$"
   ]
  },
  {
   "cell_type": "code",
   "execution_count": 119,
   "metadata": {
    "collapsed": false,
    "scrolled": true
   },
   "outputs": [
    {
     "name": "stdout",
     "output_type": "stream",
     "text": [
      "iteration:  10\n",
      "iteration:  20\n",
      "iteration:  30\n",
      "iteration:  40\n",
      "iteration:  50\n",
      "iteration:  60\n",
      "iteration:  70\n",
      "iteration:  80\n",
      "iteration:  90\n",
      "iteration:  100\n",
      "iteration:  110\n",
      "iteration:  120\n",
      "iteration:  130\n",
      "iteration:  140\n",
      "iteration:  150\n",
      "iteration:  160\n",
      "iteration:  170\n",
      "iteration:  180\n",
      "iteration:  190\n",
      "iteration:  200\n",
      "iteration:  210\n",
      "iteration:  220\n",
      "iteration:  230\n",
      "iteration:  240\n",
      "iteration:  250\n",
      "iteration:  260\n",
      "iteration:  270\n",
      "iteration:  280\n",
      "iteration:  290\n",
      "iteration:  300\n",
      "iteration:  310\n",
      "iteration:  320\n",
      "iteration:  330\n",
      "iteration:  340\n",
      "iteration:  350\n",
      "iteration:  360\n",
      "iteration:  370\n",
      "iteration:  380\n",
      "iteration:  390\n",
      "iteration:  400\n",
      "iteration:  410\n",
      "iteration:  420\n",
      "iteration:  430\n",
      "iteration:  440\n",
      "iteration:  450\n",
      "iteration:  460\n",
      "iteration:  470\n",
      "iteration:  480\n",
      "iteration:  490\n",
      "iteration:  500\n",
      "iteration:  510\n",
      "iteration:  520\n",
      "iteration:  530\n",
      "iteration:  540\n",
      "iteration:  550\n",
      "iteration:  560\n",
      "iteration:  570\n",
      "iteration:  580\n",
      "iteration:  590\n",
      "iteration:  600\n",
      "iteration:  610\n",
      "iteration:  620\n",
      "iteration:  630\n",
      "iteration:  640\n",
      "iteration:  650\n",
      "iteration:  660\n",
      "iteration:  670\n",
      "iteration:  680\n",
      "iteration:  690\n",
      "iteration:  700\n",
      "iteration:  710\n",
      "iteration:  720\n",
      "iteration:  730\n",
      "iteration:  740\n",
      "iteration:  750\n",
      "iteration:  760\n",
      "iteration:  770\n",
      "iteration:  780\n",
      "iteration:  790\n",
      "iteration:  800\n",
      "iteration:  810\n",
      "iteration:  820\n",
      "iteration:  830\n",
      "iteration:  840\n",
      "iteration:  850\n",
      "iteration:  860\n",
      "iteration:  870\n",
      "iteration:  880\n",
      "iteration:  890\n",
      "iteration:  900\n",
      "iteration:  910\n",
      "iteration:  920\n",
      "iteration:  930\n",
      "iteration:  940\n",
      "iteration:  950\n",
      "iteration:  960\n",
      "iteration:  970\n",
      "iteration:  980\n",
      "iteration:  990\n",
      "iteration:  1000\n"
     ]
    }
   ],
   "source": [
    "# but we just apply the Dirichlet priors for an example\n",
    "beta = 1. \n",
    "alpha = 1.\n",
    "\n",
    "for step in range(iters):\n",
    "    # for each word token \n",
    "    for current in i: # i  for all the duplicate words \n",
    "        # get document index and word index\n",
    "        doc_idx = d_i[current] \n",
    "        w_idx = w_i[current]\n",
    "                \n",
    "        # decrease count matrices, it means to leave out the current topic assignment \n",
    "        DT[doc_idx,z_i[current]] -= 1\n",
    "        WT[w_idx,z_i[current]] -= 1\n",
    "        \n",
    "        # calculate new assignment \n",
    "        # according to the formula\n",
    "        prob_word =  (WT[w_idx,:] + beta) / (WT[:,:].sum(axis=0) + len(vocab)* beta) # referring to the equation (1) above\n",
    "        prob_document = (DT[doc_idx,:] + alpha) / (DT[doc_idx,:].sum(axis=0) + T*alpha) ## referring to the equation (2) above\n",
    "        prob = prob_word * prob_document # prob=[Topic1,Topic2]*[Topic1,Topic2]=[Topic1,Topic2]\n",
    "        \n",
    "        # choosing z_i according to the probabilities for each topic\n",
    "        z_i[current] = np.random.choice(np.arange(T), 1, p=prob/prob.sum())[0]  # np.arange(T) = index for topics\n",
    "                                                                                # prob/prob.sum() for nomalization to 1\n",
    "\n",
    "        # return the origin matrix before leaving out the current topic assignment \n",
    "        DT[doc_idx,z_i[current]] += 1\n",
    "        WT[w_idx,z_i[current]] += 1\n",
    "\n",
    "        # estimate phi - not essential for inference\n",
    "        phi  = WT/(WT.sum(axis=0)) # generated topic assignments\n",
    "        for t in range(T):\n",
    "            phi_T[t][:,step] = phi[:,t] # record the generated topic assignments to topic 1\n",
    "                                        # record the generated topic assignments to topic 2\n",
    "    if((step+1) % 10 ==0):\n",
    "        print('iteration: ', step+1)        "
   ]
  },
  {
   "cell_type": "code",
   "execution_count": 120,
   "metadata": {
    "collapsed": false
   },
   "outputs": [
    {
     "data": {
      "text/plain": [
       "array([[  9.,   0.],\n",
       "       [  0.,  12.],\n",
       "       [  8.,   1.],\n",
       "       [  1.,   5.],\n",
       "       [  1.,  10.],\n",
       "       [  0.,  12.],\n",
       "       [  5.,   0.],\n",
       "       [  0.,   9.],\n",
       "       [  2.,  10.],\n",
       "       [  7.,   0.],\n",
       "       [  6.,   0.],\n",
       "       [  0.,  10.],\n",
       "       [ 10.,   2.],\n",
       "       [ 10.,   0.],\n",
       "       [ 12.,   0.],\n",
       "       [  0.,   7.]])"
      ]
     },
     "execution_count": 120,
     "metadata": {},
     "output_type": "execute_result"
    }
   ],
   "source": [
    "DT # topic assingments for document X topic"
   ]
  },
  {
   "cell_type": "code",
   "execution_count": 121,
   "metadata": {
    "collapsed": false
   },
   "outputs": [
    {
     "data": {
      "text/plain": [
       "array([[ 1.        ,  0.        ],\n",
       "       [ 0.        ,  1.        ],\n",
       "       [ 0.88888889,  0.11111111],\n",
       "       [ 0.16666667,  0.83333333],\n",
       "       [ 0.09090909,  0.90909091],\n",
       "       [ 0.        ,  1.        ],\n",
       "       [ 1.        ,  0.        ],\n",
       "       [ 0.        ,  1.        ],\n",
       "       [ 0.16666667,  0.83333333],\n",
       "       [ 1.        ,  0.        ],\n",
       "       [ 1.        ,  0.        ],\n",
       "       [ 0.        ,  1.        ],\n",
       "       [ 0.83333333,  0.16666667],\n",
       "       [ 1.        ,  0.        ],\n",
       "       [ 1.        ,  0.        ],\n",
       "       [ 0.        ,  1.        ]])"
      ]
     },
     "execution_count": 121,
     "metadata": {},
     "output_type": "execute_result"
    }
   ],
   "source": [
    "theta=DT/(DT.sum(axis=1)).reshape(DT.shape[0],1)# topic distribution over each document\n",
    "theta"
   ]
  },
  {
   "cell_type": "code",
   "execution_count": 122,
   "metadata": {
    "collapsed": false
   },
   "outputs": [
    {
     "data": {
      "text/plain": [
       "array([[ 19.,   0.],\n",
       "       [ 28.,   0.],\n",
       "       [ 24.,  24.],\n",
       "       [  0.,  30.],\n",
       "       [  0.,  24.]])"
      ]
     },
     "execution_count": 122,
     "metadata": {},
     "output_type": "execute_result"
    }
   ],
   "source": [
    "WT # topic assingments for word X topic"
   ]
  },
  {
   "cell_type": "code",
   "execution_count": 123,
   "metadata": {
    "collapsed": false
   },
   "outputs": [
    {
     "data": {
      "text/plain": [
       "array([[ 0.26760563,  0.        ],\n",
       "       [ 0.3943662 ,  0.        ],\n",
       "       [ 0.33802817,  0.30769231],\n",
       "       [ 0.        ,  0.38461538],\n",
       "       [ 0.        ,  0.30769231]])"
      ]
     },
     "execution_count": 123,
     "metadata": {},
     "output_type": "execute_result"
    }
   ],
   "source": [
    "phi=WT/WT.sum(axis=0) # word distribution over each topic\n",
    "phi"
   ]
  },
  {
   "cell_type": "code",
   "execution_count": 124,
   "metadata": {
    "collapsed": false
   },
   "outputs": [
    {
     "data": {
      "text/plain": [
       "array([ True,  True,  True,  True,  True,  True,  True,  True,  True,\n",
       "        True,  True,  True,  True,  True,  True,  True], dtype=bool)"
      ]
     },
     "execution_count": 124,
     "metadata": {},
     "output_type": "execute_result"
    }
   ],
   "source": [
    "np.argmax(theta, axis=1) == orig_topics # all topic assingments were well predictied"
   ]
  },
  {
   "cell_type": "code",
   "execution_count": 138,
   "metadata": {
    "collapsed": false
   },
   "outputs": [
    {
     "data": {
      "image/png": "[encoded data removed]",
      "text/plain": [
       "<matplotlib.figure.Figure at 0x26106982748>"
      ]
     },
     "execution_count": 138,
     "metadata": {},
     "output_type": "execute_result"
    }
   ],
   "source": [
    "import matplotlib.pyplot as plt\n",
    "import seaborn as sns\n",
    "fig, axs = plt.subplots(T,1, sharey=False) # T row X 1 col\n",
    "\n",
    "\n",
    "for t in range(T):\n",
    "    for i in range(phi_T[t].shape[0]):\n",
    "            axs[t].plot(phi_T[t][i,100:200]) # each word distribution over topic at i iteration\n",
    "            axs[t].set_title('Topic '+ str(t+1))\n",
    "\n",
    "\n",
    "fig.set_size_inches((7, 4)) # width, length\n",
    "sns.despine()\n",
    "\n",
    "for ax in axs:\n",
    "    ax.set_ylabel(r'$\\phi_w$')\n",
    "    ax.set_xlabel('Iteration')\n",
    "    ax.set_yticks(np.arange(0, 0.5, 0.1))\n",
    "    \n",
    "fig.tight_layout()\n",
    "fig"
   ]
  },
  {
   "cell_type": "markdown",
   "metadata": {},
   "source": [
    "Each panel shows the fluctaion a probability of assigning each word to topic j. \n",
    "\n",
    "Maybe later I am going to apply this conception using Database.\n"
   ]
  }
 ],
 "metadata": {
  "anaconda-cloud": {},
  "kernelspec": {
   "display_name": "Python [conda root]",
   "language": "python",
   "name": "conda-root-py"
  },
  "language_info": {
   "codemirror_mode": {
    "name": "ipython",
    "version": 3
   },
   "file_extension": ".py",
   "mimetype": "text/x-python",
   "name": "python",
   "nbconvert_exporter": "python",
   "pygments_lexer": "ipython3",
   "version": "3.5.2"
  },
  "nbpresent": {
   "slides": {},
   "themes": {
    "default": "2e8f93d4-c00c-4619-9122-479dd9967107",
    "theme": {
     "2e8f93d4-c00c-4619-9122-479dd9967107": {
      "backgrounds": {
       "dc7afa04-bf90-40b1-82a5-726e3cff5267": {
        "background-color": "31af15d2-7e15-44c5-ab5e-e04b16a89eff",
        "id": "dc7afa04-bf90-40b1-82a5-726e3cff5267"
       }
      },
      "id": "2e8f93d4-c00c-4619-9122-479dd9967107",
      "palette": {
       "19cc588f-0593-49c9-9f4b-e4d7cc113b1c": {
        "id": "19cc588f-0593-49c9-9f4b-e4d7cc113b1c",
        "rgb": [
         252,
         252,
         252
        ]
       },
       "31af15d2-7e15-44c5-ab5e-e04b16a89eff": {
        "id": "31af15d2-7e15-44c5-ab5e-e04b16a89eff",
        "rgb": [
         68,
         68,
         68
        ]
       },
       "50f92c45-a630-455b-aec3-788680ec7410": {
        "id": "50f92c45-a630-455b-aec3-788680ec7410",
        "rgb": [
         197,
         226,
         245
        ]
       },
       "c5cc3653-2ee1-402a-aba2-7caae1da4f6c": {
        "id": "c5cc3653-2ee1-402a-aba2-7caae1da4f6c",
        "rgb": [
         43,
         126,
         184
        ]
       },
       "efa7f048-9acb-414c-8b04-a26811511a21": {
        "id": "efa7f048-9acb-414c-8b04-a26811511a21",
        "rgb": [
         25.118061674008803,
         73.60176211453744,
         107.4819383259912
        ]
       }
      },
      "rules": {
       "a": {
        "color": "19cc588f-0593-49c9-9f4b-e4d7cc113b1c"
       },
       "blockquote": {
        "color": "50f92c45-a630-455b-aec3-788680ec7410",
        "font-size": 3
       },
       "code": {
        "font-family": "Anonymous Pro"
       },
       "h1": {
        "color": "19cc588f-0593-49c9-9f4b-e4d7cc113b1c",
        "font-family": "Merriweather",
        "font-size": 8
       },
       "h2": {
        "color": "19cc588f-0593-49c9-9f4b-e4d7cc113b1c",
        "font-family": "Merriweather",
        "font-size": 6
       },
       "h3": {
        "color": "50f92c45-a630-455b-aec3-788680ec7410",
        "font-family": "Lato",
        "font-size": 5.5
       },
       "h4": {
        "color": "c5cc3653-2ee1-402a-aba2-7caae1da4f6c",
        "font-family": "Lato",
        "font-size": 5
       },
       "h5": {
        "font-family": "Lato"
       },
       "h6": {
        "font-family": "Lato"
       },
       "h7": {
        "font-family": "Lato"
       },
       "li": {
        "color": "50f92c45-a630-455b-aec3-788680ec7410",
        "font-size": 3.25
       },
       "pre": {
        "font-family": "Anonymous Pro",
        "font-size": 4
       }
      },
      "text-base": {
       "color": "19cc588f-0593-49c9-9f4b-e4d7cc113b1c",
       "font-family": "Lato",
       "font-size": 4
      }
     },
     "d4a00429-3f6d-4dd0-aa5b-f5be047fe1d1": {
      "backgrounds": {
       "dc7afa04-bf90-40b1-82a5-726e3cff5267": {
        "background-color": "31af15d2-7e15-44c5-ab5e-e04b16a89eff",
        "id": "dc7afa04-bf90-40b1-82a5-726e3cff5267"
       }
      },
      "id": "d4a00429-3f6d-4dd0-aa5b-f5be047fe1d1",
      "palette": {
       "19cc588f-0593-49c9-9f4b-e4d7cc113b1c": {
        "id": "19cc588f-0593-49c9-9f4b-e4d7cc113b1c",
        "rgb": [
         252,
         252,
         252
        ]
       },
       "31af15d2-7e15-44c5-ab5e-e04b16a89eff": {
        "id": "31af15d2-7e15-44c5-ab5e-e04b16a89eff",
        "rgb": [
         68,
         68,
         68
        ]
       },
       "50f92c45-a630-455b-aec3-788680ec7410": {
        "id": "50f92c45-a630-455b-aec3-788680ec7410",
        "rgb": [
         197,
         226,
         245
        ]
       },
       "c5cc3653-2ee1-402a-aba2-7caae1da4f6c": {
        "id": "c5cc3653-2ee1-402a-aba2-7caae1da4f6c",
        "rgb": [
         43,
         126,
         184
        ]
       },
       "efa7f048-9acb-414c-8b04-a26811511a21": {
        "id": "efa7f048-9acb-414c-8b04-a26811511a21",
        "rgb": [
         25.118061674008803,
         73.60176211453744,
         107.4819383259912
        ]
       }
      },
      "rules": {
       "a": {
        "color": "19cc588f-0593-49c9-9f4b-e4d7cc113b1c"
       },
       "blockquote": {
        "color": "50f92c45-a630-455b-aec3-788680ec7410",
        "font-size": 3
       },
       "code": {
        "font-family": "Anonymous Pro"
       },
       "h1": {
        "color": "19cc588f-0593-49c9-9f4b-e4d7cc113b1c",
        "font-family": "Merriweather",
        "font-size": 8
       },
       "h2": {
        "color": "19cc588f-0593-49c9-9f4b-e4d7cc113b1c",
        "font-family": "Merriweather",
        "font-size": 6
       },
       "h3": {
        "color": "50f92c45-a630-455b-aec3-788680ec7410",
        "font-family": "Lato",
        "font-size": 5.5
       },
       "h4": {
        "color": "c5cc3653-2ee1-402a-aba2-7caae1da4f6c",
        "font-family": "Lato",
        "font-size": 5
       },
       "h5": {
        "font-family": "Lato"
       },
       "h6": {
        "font-family": "Lato"
       },
       "h7": {
        "font-family": "Lato"
       },
       "li": {
        "color": "50f92c45-a630-455b-aec3-788680ec7410",
        "font-size": 3.25
       },
       "pre": {
        "font-family": "Anonymous Pro",
        "font-size": 4
       }
      },
      "text-base": {
       "color": "19cc588f-0593-49c9-9f4b-e4d7cc113b1c",
       "font-family": "Lato",
       "font-size": 4
      }
     },
     "dc9a2234-bbc7-42db-879b-4148a95288d4": {
      "id": "dc9a2234-bbc7-42db-879b-4148a95288d4",
      "palette": {
       "19cc588f-0593-49c9-9f4b-e4d7cc113b1c": {
        "id": "19cc588f-0593-49c9-9f4b-e4d7cc113b1c",
        "rgb": [
         252,
         252,
         252
        ]
       },
       "31af15d2-7e15-44c5-ab5e-e04b16a89eff": {
        "id": "31af15d2-7e15-44c5-ab5e-e04b16a89eff",
        "rgb": [
         68,
         68,
         68
        ]
       },
       "50f92c45-a630-455b-aec3-788680ec7410": {
        "id": "50f92c45-a630-455b-aec3-788680ec7410",
        "rgb": [
         155,
         177,
         192
        ]
       },
       "c5cc3653-2ee1-402a-aba2-7caae1da4f6c": {
        "id": "c5cc3653-2ee1-402a-aba2-7caae1da4f6c",
        "rgb": [
         43,
         126,
         184
        ]
       },
       "efa7f048-9acb-414c-8b04-a26811511a21": {
        "id": "efa7f048-9acb-414c-8b04-a26811511a21",
        "rgb": [
         25.118061674008803,
         73.60176211453744,
         107.4819383259912
        ]
       }
      },
      "rules": {
       "blockquote": {
        "color": "50f92c45-a630-455b-aec3-788680ec7410"
       },
       "code": {
        "font-family": "Anonymous Pro"
       },
       "h1": {
        "color": "c5cc3653-2ee1-402a-aba2-7caae1da4f6c",
        "font-family": "Lato",
        "font-size": 8
       },
       "h2": {
        "color": "c5cc3653-2ee1-402a-aba2-7caae1da4f6c",
        "font-family": "Lato",
        "font-size": 6
       },
       "h3": {
        "color": "50f92c45-a630-455b-aec3-788680ec7410",
        "font-family": "Lato",
        "font-size": 5.5
       },
       "h4": {
        "color": "c5cc3653-2ee1-402a-aba2-7caae1da4f6c",
        "font-family": "Lato",
        "font-size": 5
       },
       "h5": {
        "font-family": "Lato"
       },
       "h6": {
        "font-family": "Lato"
       },
       "h7": {
        "font-family": "Lato"
       },
       "pre": {
        "font-family": "Anonymous Pro",
        "font-size": 4
       }
      },
      "text-base": {
       "font-family": "Merriweather",
       "font-size": 4
      }
     }
    }
   }
  }
 },
 "nbformat": 4,
 "nbformat_minor": 0
}
